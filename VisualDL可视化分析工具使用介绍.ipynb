{
 "cells": [
  {
   "cell_type": "markdown",
   "metadata": {
    "collapsed": false,
    "pycharm": {
     "name": "#%% md\n"
    }
   },
   "source": [
    "### VisualDL 可视化分析工具 使用介绍"
   ]
  },
  {
   "cell_type": "markdown",
   "metadata": {
    "collapsed": false,
    "pycharm": {
     "name": "#%% md\n"
    }
   },
   "source": [
    "在使用 train.py 进行训练后，会自动在目录下生成 **train_log\\main** 文件夹"
   ]
  },
  {
   "cell_type": "markdown",
   "metadata": {
    "collapsed": false,
    "pycharm": {
     "name": "#%% md\n"
    }
   },
   "source": [
    "可使用IDE的终端输入命令，启动面版\n",
    "```\n",
    "visualdl --logdir=<dir> --host=<host>\n",
    "```\n",
    "启动的指令和对应端口，在 运行 train.py 时 也会显示\n",
    "![](https://ai-studio-static-online.cdn.bcebos.com/11c37ae5f09d43d2a911cd81124c8a2f2327ae1dbad042ee948da4d352198614)\n"
   ]
  },
  {
   "cell_type": "markdown",
   "metadata": {
    "collapsed": false,
    "pycharm": {
     "name": "#%% md\n"
    }
   },
   "source": [
    "**启动过程展示图**\n",
    "\n",
    "![](https://ai-studio-static-online.cdn.bcebos.com/978e2a39e4fc4a54b3173d7de39d8826b506d26c44754849ae90ff98b975b2b9)"
   ]
  },
  {
   "cell_type": "markdown",
   "metadata": {
    "collapsed": false,
    "pycharm": {
     "name": "#%% md\n"
    }
   },
   "source": [
    "![](https://ai-studio-static-online.cdn.bcebos.com/b5f228f8ca034566bac87301e2738e7e820edf3e9df846458b6087688b728480)\n"
   ]
  },
  {
   "cell_type": "markdown",
   "metadata": {
    "collapsed": false,
    "pycharm": {
     "name": "#%% md\n"
    }
   },
   "source": [
    "**查看训练过程，每个回合的累计回报（奖励）变化** <br>\n",
    "![](https://ai-studio-static-online.cdn.bcebos.com/f129822c13094a17b0f967ec5c0ea3b92e965b3b55e14b999520c54f9b2d77a5)"
   ]
  },
  {
   "cell_type": "markdown",
   "metadata": {
    "collapsed": false,
    "pycharm": {
     "name": "#%% md\n"
    }
   },
   "source": [
    "### VisualDL 可视化分析工具 官方使用教程链接\n",
    "\n",
    "[VisualDL GitHub链接](https://github.com/PaddlePaddle/VisualDL/blob/develop/README_CN.md)"
   ]
  }
 ],
 "metadata": {
  "kernelspec": {
   "display_name": "Python 3.8.10 64-bit",
   "language": "python",
   "name": "python3"
  },
  "language_info": {
   "codemirror_mode": {
    "name": "ipython",
    "version": 2
   },
   "file_extension": ".py",
   "mimetype": "text/x-python",
   "name": "python",
   "nbconvert_exporter": "python",
   "pygments_lexer": "ipython2",
   "version": "3.8.10"
  },
  "vscode": {
   "interpreter": {
    "hash": "916dbcbb3f70747c44a77c7bcd40155683ae19c65e1c03b4aa3499c5328201f1"
   }
  }
 },
 "nbformat": 4,
 "nbformat_minor": 0
}
